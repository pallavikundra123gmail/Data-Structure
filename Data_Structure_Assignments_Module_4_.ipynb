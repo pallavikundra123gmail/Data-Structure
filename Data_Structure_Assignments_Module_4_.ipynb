{
  "nbformat": 4,
  "nbformat_minor": 0,
  "metadata": {
    "colab": {
      "provenance": []
    },
    "kernelspec": {
      "name": "python3",
      "display_name": "Python 3"
    },
    "language_info": {
      "name": "python"
    }
  },
  "cells": [
    {
      "cell_type": "markdown",
      "source": [
        "Data Types and Structures theory Questions"
      ],
      "metadata": {
        "id": "AW-EyIj8s7NO"
      }
    },
    {
      "cell_type": "code",
      "execution_count": null,
      "metadata": {
        "id": "-G_7oK_-p190"
      },
      "outputs": [],
      "source": [
        "#1. What are data structures, and why are they important?\n",
        "\n",
        "#Ans:- Data sturcture are ways of storing , managing different types of data for efficent access and modifications.\n",
        "#      Importance of data structure:-\n",
        "#      1.in such way we can do deletion and manupulation of data.\n",
        "#      2.code presented neat and clean and improve performance of code."
      ]
    },
    {
      "cell_type": "code",
      "source": [
        "2. Explain the difference between mutable and immutable data types with examples?\n",
        "\n",
        "#Ans:- mutable type of data :- in such type of data structure modification is possible after creation(.i.e list,dictionary,sets)\n",
        "#example>>\n",
        "l1=[1,2,\"pallavi\"]\n",
        "l1[2]=\"ajay\"\n",
        "print(\"l1 =\",l1)\n",
        "\n",
        "#immutable type of data :- in such type of data structure modification is not possible after creation they fixed(.i.e string , tuples)\n",
        "#example>>\n",
        "s=\"pallavi\",\"ajay\",\"pwskill\"\n",
        "#if s[1]==\"john\"\n",
        "print(\"strings are immutable\")"
      ],
      "metadata": {
        "colab": {
          "base_uri": "https://localhost:8080/"
        },
        "id": "2ouPQeuuqluR",
        "outputId": "cfd70be6-4f8a-434c-ea07-713661de35e1"
      },
      "execution_count": 2,
      "outputs": [
        {
          "output_type": "stream",
          "name": "stdout",
          "text": [
            "l1 = [1, 2, 'ajay']\n",
            "strings are immutable\n"
          ]
        }
      ]
    },
    {
      "cell_type": "code",
      "source": [
        "#3. What are the main differences between lists and tuples in Python?\n",
        "\n",
        "#Ans:- main difference between lists and tuples are\n",
        "#       lists :- lists are mutable and indexation is also allowed , list is used in dynamic type of data and having slower process\n",
        "#       tuple:- in case of tuples idexation is allowed but immutable, tuples use for fixed type of data and having faster in process\n"
      ],
      "metadata": {
        "id": "1yZZKbiRqoxX"
      },
      "execution_count": null,
      "outputs": []
    },
    {
      "cell_type": "code",
      "source": [
        "#4. Describe how dictionaries store data?\n",
        "\n",
        "#Ans:- dictionary store data in the pair of key and value\n",
        "#      example:-\n",
        "dict1 = {\"name\":\"amit\",\"age\":24,\"course\":\"data analytics\"}"
      ],
      "metadata": {
        "id": "Jd416311rUnG"
      },
      "execution_count": null,
      "outputs": []
    },
    {
      "cell_type": "code",
      "source": [
        "#5. Why might you use a set instead of a list in Python?\n",
        "\n",
        "#Ans:-We may use a set instead of list if we don't want any duplicate in list and both are mutable so if want any modification do so.\n",
        "#       in set indexation is not allowed so it works faster then list"
      ],
      "metadata": {
        "id": "mqZP6q2yrgCf"
      },
      "execution_count": null,
      "outputs": []
    },
    {
      "cell_type": "code",
      "source": [
        "#6. What is a string in Python, and how is it different from a list?\n",
        "\n",
        "#Ans:- string :- strings are sequence of character which is immutable type of data.\n",
        "# example :- string1=\"pallavi\",\"ajay\",\"pwskill\"\n",
        "#             string1[1]=\"john\" >> it will gives you a error\n",
        "\n",
        "#       list :- lsits are sequence of items which is mutable type of data.\n",
        "list1=[1,2,3.5,\"pallavi\",\"pwskill\"]\n",
        "list1[3]=\"john\" # this will work\n",
        "list1"
      ],
      "metadata": {
        "colab": {
          "base_uri": "https://localhost:8080/"
        },
        "id": "npkBetRNrhim",
        "outputId": "058451bb-be38-41ba-dc0d-505ebd7dfd5f"
      },
      "execution_count": 4,
      "outputs": [
        {
          "output_type": "execute_result",
          "data": {
            "text/plain": [
              "[1, 2, 3.5, 'john', 'pwskill']"
            ]
          },
          "metadata": {},
          "execution_count": 4
        }
      ]
    },
    {
      "cell_type": "code",
      "source": [
        "#7. How do tuples ensure data integrity in Python?\n",
        "\n",
        "#Ans:- Tuples are immutable so that we can not change the elements of the tuples so that integrity of the data in case of tuple didn't hamper"
      ],
      "metadata": {
        "id": "Jb8fcKW7rlvC"
      },
      "execution_count": null,
      "outputs": []
    },
    {
      "cell_type": "code",
      "source": [
        "#8. What is a hash table, and how does it relate to dictionaries in Python?\n",
        "\n",
        "#Ans:- A hash table is a data structure that maps keys to values using a hash function."
      ],
      "metadata": {
        "id": "mLX0QxYOsAqZ"
      },
      "execution_count": null,
      "outputs": []
    },
    {
      "cell_type": "code",
      "source": [
        "#9. Can lists contain different data types in Python?\n",
        "Ans:- yes, list can contain different types of data in python like (interger,float,complex,boolean,string)\n",
        "list1=[1,2,3.8,3+10j,True,False,\"amit\",\"ajit\"]"
      ],
      "metadata": {
        "id": "GpEik0-IsDqd"
      },
      "execution_count": null,
      "outputs": []
    },
    {
      "cell_type": "code",
      "source": [
        "#10. Explain why strings are immutable in Python?\n",
        "\n",
        "#Ans:-String's immutability helps in the performance optimization."
      ],
      "metadata": {
        "id": "Fkeeqx1jsHSN"
      },
      "execution_count": null,
      "outputs": []
    },
    {
      "cell_type": "code",
      "source": [
        "#11. What advantages do dictionaries offer over lists for certain tasks?\n",
        "\n",
        "#Ans:-List are ordered collection of data and duplicate elements are allowed , here index are used to call the elements\n",
        "#dictonaries :- in case of dictionaries there were duplicate keys are allowed , here we call the value by keys\n",
        "#dictionaries are more persentable then list as case may be"
      ],
      "metadata": {
        "id": "PCj7dRdssKgl"
      },
      "execution_count": null,
      "outputs": []
    },
    {
      "cell_type": "code",
      "source": [
        "#12. Describe a scenario where using a tuple would be preferable over a list?\n",
        "\n",
        "#Ans:- as we know tuples are immutable and list are mutable so we use tuples in such case:-\n",
        "#      1. when we only read the data not changes should be done\n",
        "#      2. when we want to use tuples as a dictionary key but list can not use as a dictionary key"
      ],
      "metadata": {
        "id": "A9zy6dXNsNKs"
      },
      "execution_count": null,
      "outputs": []
    },
    {
      "cell_type": "code",
      "source": [
        "#13. How do sets handle duplicate values in Python?\n",
        "\n",
        "#ans.>> set in python automaticlly discard the dupicate values from set"
      ],
      "metadata": {
        "id": "Dh3lKzcTsRA2"
      },
      "execution_count": null,
      "outputs": []
    },
    {
      "cell_type": "code",
      "source": [
        "#14. How does the “in” keyword work differently for lists and dictionaries?\n",
        "\n",
        "#ans.>> in list :- \"in\" use to check exsiting elements/value of list\n",
        "#       in dictionary :- \"in\" use to check exsiting keys only not values"
      ],
      "metadata": {
        "id": "4EnuL_2tsTy4"
      },
      "execution_count": null,
      "outputs": []
    },
    {
      "cell_type": "code",
      "source": [
        "#15. Can you modify the elements of a tuple? Explain why or why not\n",
        "\n",
        "#ans.>>No, tuples are immutable. Once created, their elements cannot be changed.\n",
        "#      This makes them safe to use when you don’t want data to be modified."
      ],
      "metadata": {
        "id": "HE2t1OupsWiq"
      },
      "execution_count": null,
      "outputs": []
    },
    {
      "cell_type": "code",
      "source": [
        "#16. What is a nested dictionary, and give an example of its use case?\n",
        "\n",
        "#ans.>> nested dictionary :- it is a type of dictionary which is inside the another dictionary\n",
        "#use case\n",
        "d = {\"name\":\"pallavi\",\"age\":32,\"marks\":{\"maths\":65,\"accounting\":75}}\n",
        "print(\"original =\",d)\n",
        "print(\"marks in accounting =\",d[\"marks\"][\"accounting\"])"
      ],
      "metadata": {
        "colab": {
          "base_uri": "https://localhost:8080/"
        },
        "id": "i5eEECFvsZwe",
        "outputId": "cd927fec-b91f-42d9-fe52-86be4bbcf156"
      },
      "execution_count": 6,
      "outputs": [
        {
          "output_type": "stream",
          "name": "stdout",
          "text": [
            "original = {'name': 'pallavi', 'age': 32, 'marks': {'maths': 65, 'accounting': 75}}\n",
            "marks in accounting = 75\n"
          ]
        }
      ]
    },
    {
      "cell_type": "code",
      "source": [
        "#17. Describe the time complexity of accessing elements in a dictionary.\n",
        "\n",
        "#ans.>> dictionary using very less time to accessing the elements because:-\n",
        "#   accessing directly keys by using keyword \".keys\"\n",
        "#   accessing directly values by using keyword \".values\""
      ],
      "metadata": {
        "id": "4-LSKF-7scJV"
      },
      "execution_count": null,
      "outputs": []
    },
    {
      "cell_type": "code",
      "source": [
        "#18. In what situations are lists preferred over dictionaries?\n",
        "\n",
        "#ans.>> situations when are lists preferred over dictionarie :-\n",
        "#     1. when order of data matters\n",
        "#     2. when keys and there values are not define\n",
        "#     3. when we need to fequently modification in the data , do so"
      ],
      "metadata": {
        "id": "O-uZH9OqsheN"
      },
      "execution_count": null,
      "outputs": []
    },
    {
      "cell_type": "code",
      "source": [
        "#19. Why are dictionaries considered unordered, and how does that affect data retrieval?\n",
        "\n",
        "#ans.>> because there is no positional index but maintains the order of insertion"
      ],
      "metadata": {
        "id": "l9Iln7p6skWM"
      },
      "execution_count": null,
      "outputs": []
    },
    {
      "cell_type": "code",
      "source": [
        "#20. Explain the difference between a list and a dictionary in terms of data retrieval.\n",
        "\n",
        "#ans.>> list :- it takes more time to retrive the data and depends upon the size of the data\n",
        "#       dictionary :- it takes generally same time to retrives the data not depend on the size of data"
      ],
      "metadata": {
        "id": "IM9vT4wuslOr"
      },
      "execution_count": null,
      "outputs": []
    },
    {
      "cell_type": "markdown",
      "source": [
        "Data Types and Structures practical Questions"
      ],
      "metadata": {
        "id": "u2EVksQKswNh"
      }
    },
    {
      "cell_type": "code",
      "source": [
        "#1. Write a code to create a string with your name and print it.\n",
        "s=\"pallavi\"\n",
        "print(s)"
      ],
      "metadata": {
        "colab": {
          "base_uri": "https://localhost:8080/"
        },
        "id": "Gndx8s3wsxuP",
        "outputId": "2cbab871-94a6-480e-f630-30cc547b5021"
      },
      "execution_count": 7,
      "outputs": [
        {
          "output_type": "stream",
          "name": "stdout",
          "text": [
            "pallavi\n"
          ]
        }
      ]
    },
    {
      "cell_type": "code",
      "source": [
        "#2. Write a code to find the length of the string \"Hello World\"\n",
        "s = \"hello world\"\n",
        "len(s)"
      ],
      "metadata": {
        "colab": {
          "base_uri": "https://localhost:8080/"
        },
        "id": "yIeKKCH6t13F",
        "outputId": "25b876ff-1e93-4db8-9c0c-edfd7fcb4f33"
      },
      "execution_count": 8,
      "outputs": [
        {
          "output_type": "execute_result",
          "data": {
            "text/plain": [
              "11"
            ]
          },
          "metadata": {},
          "execution_count": 8
        }
      ]
    },
    {
      "cell_type": "code",
      "source": [
        "#3. Write a code to slice the first 3 characters from the string \"Python Programming\"\n",
        "s=\"python programming\"\n",
        "s[0:3] # slicing"
      ],
      "metadata": {
        "colab": {
          "base_uri": "https://localhost:8080/",
          "height": 35
        },
        "id": "S2Z4xMTet8_P",
        "outputId": "14fc9ef9-0a9d-41ad-d576-ecac8db5e245"
      },
      "execution_count": 9,
      "outputs": [
        {
          "output_type": "execute_result",
          "data": {
            "text/plain": [
              "'pyt'"
            ],
            "application/vnd.google.colaboratory.intrinsic+json": {
              "type": "string"
            }
          },
          "metadata": {},
          "execution_count": 9
        }
      ]
    },
    {
      "cell_type": "code",
      "source": [
        "#4. Write a code to convert the string \"hello\" to uppercase.\n",
        "s=\"hello\"\n",
        "s.upper()"
      ],
      "metadata": {
        "colab": {
          "base_uri": "https://localhost:8080/",
          "height": 35
        },
        "id": "nNoCQoUyuBea",
        "outputId": "2d894ab9-d966-43ca-d944-3492205e2ab3"
      },
      "execution_count": 10,
      "outputs": [
        {
          "output_type": "execute_result",
          "data": {
            "text/plain": [
              "'HELLO'"
            ],
            "application/vnd.google.colaboratory.intrinsic+json": {
              "type": "string"
            }
          },
          "metadata": {},
          "execution_count": 10
        }
      ]
    },
    {
      "cell_type": "code",
      "source": [
        "#5. Write a code to replace the word \"apple\" with \"orange\" in the string \"I like apple\".\n",
        "s=\"i like apple\"\n",
        "print(s.replace(\"apple\",\"orange\"))"
      ],
      "metadata": {
        "colab": {
          "base_uri": "https://localhost:8080/"
        },
        "id": "oVkbuSyuuKjK",
        "outputId": "34a95a3a-a5c4-4d21-8b99-de0dd7b4ba05"
      },
      "execution_count": 11,
      "outputs": [
        {
          "output_type": "stream",
          "name": "stdout",
          "text": [
            "i like orange\n"
          ]
        }
      ]
    },
    {
      "cell_type": "code",
      "source": [
        "#6. Write a code to create a list with numbers 1 to 5 and print it\n",
        "l=[1,2,3,4,5]\n",
        "print(l)"
      ],
      "metadata": {
        "colab": {
          "base_uri": "https://localhost:8080/"
        },
        "id": "g2JLBmyMuOHg",
        "outputId": "325eb26e-5752-4b00-ebdf-acdacf841d72"
      },
      "execution_count": 12,
      "outputs": [
        {
          "output_type": "stream",
          "name": "stdout",
          "text": [
            "[1, 2, 3, 4, 5]\n"
          ]
        }
      ]
    },
    {
      "cell_type": "code",
      "source": [
        "#7. Write a code to append the number 10 to the list [1, 2, 3, 4]\n",
        "l=[1,2,3,4]\n",
        "l.append(10)\n",
        "print(l)"
      ],
      "metadata": {
        "colab": {
          "base_uri": "https://localhost:8080/"
        },
        "id": "6Skc4qpYuR8k",
        "outputId": "ad0a83ed-dc25-4c7e-9353-cb64d94af306"
      },
      "execution_count": 13,
      "outputs": [
        {
          "output_type": "stream",
          "name": "stdout",
          "text": [
            "[1, 2, 3, 4, 10]\n"
          ]
        }
      ]
    },
    {
      "cell_type": "code",
      "source": [
        "#8. Write a code to remove the number 3 from the list [1, 2, 3, 4, 5].\n",
        "l=[1,2,3,4,5]\n",
        "l.remove(3)\n",
        "print(l)"
      ],
      "metadata": {
        "colab": {
          "base_uri": "https://localhost:8080/"
        },
        "id": "oAcP3gECuXVE",
        "outputId": "11adff3d-904d-4f86-c4a2-04d873f75d2b"
      },
      "execution_count": 14,
      "outputs": [
        {
          "output_type": "stream",
          "name": "stdout",
          "text": [
            "[1, 2, 4, 5]\n"
          ]
        }
      ]
    },
    {
      "cell_type": "code",
      "source": [
        "#9. Write a code to access the second element in the list ['a', 'b', 'c', 'd'].\n",
        "l=['a', 'b', 'c', 'd']\n",
        "l[1]"
      ],
      "metadata": {
        "colab": {
          "base_uri": "https://localhost:8080/",
          "height": 35
        },
        "id": "9GfE6vUXuabG",
        "outputId": "edf6bb7d-297b-41f0-e511-34fcc230ff74"
      },
      "execution_count": 15,
      "outputs": [
        {
          "output_type": "execute_result",
          "data": {
            "text/plain": [
              "'b'"
            ],
            "application/vnd.google.colaboratory.intrinsic+json": {
              "type": "string"
            }
          },
          "metadata": {},
          "execution_count": 15
        }
      ]
    },
    {
      "cell_type": "code",
      "source": [
        "#10. Write a code to reverse the list [10, 20, 30, 40, 50].\n",
        "l= [10, 20, 30, 40, 50]\n",
        "l.reverse()\n",
        "print(l)"
      ],
      "metadata": {
        "colab": {
          "base_uri": "https://localhost:8080/"
        },
        "id": "zlw96UeNudwX",
        "outputId": "d3409449-582c-49a3-9a8f-10a2f370a018"
      },
      "execution_count": 16,
      "outputs": [
        {
          "output_type": "stream",
          "name": "stdout",
          "text": [
            "[50, 40, 30, 20, 10]\n"
          ]
        }
      ]
    },
    {
      "cell_type": "code",
      "source": [
        "#11.Write a code to create a tuple with the elements 100, 200, 300 and print it.\n",
        "t=(100,200,300)\n",
        "print(t)"
      ],
      "metadata": {
        "colab": {
          "base_uri": "https://localhost:8080/"
        },
        "id": "4yI9uPAju197",
        "outputId": "b22f3631-9e34-4f9e-d711-1aec35b1f7ca"
      },
      "execution_count": 17,
      "outputs": [
        {
          "output_type": "stream",
          "name": "stdout",
          "text": [
            "(100, 200, 300)\n"
          ]
        }
      ]
    },
    {
      "cell_type": "code",
      "source": [
        "#12. Write a code to access the second-to-last element of the tuple ('red', 'green', 'blue', 'yellow').\n",
        "t=('red', 'green', 'blue', 'yellow')\n",
        "t[-2]"
      ],
      "metadata": {
        "colab": {
          "base_uri": "https://localhost:8080/",
          "height": 35
        },
        "id": "4q4zYl03vR8f",
        "outputId": "75aa83b7-3de7-4f39-d542-9e526e4c6273"
      },
      "execution_count": 18,
      "outputs": [
        {
          "output_type": "execute_result",
          "data": {
            "text/plain": [
              "'blue'"
            ],
            "application/vnd.google.colaboratory.intrinsic+json": {
              "type": "string"
            }
          },
          "metadata": {},
          "execution_count": 18
        }
      ]
    },
    {
      "cell_type": "code",
      "source": [
        "#13. Write a code to find the minimum number in the tuple (10, 20, 5, 15).\n",
        "t=(10, 20, 5, 15)\n",
        "min(t)"
      ],
      "metadata": {
        "colab": {
          "base_uri": "https://localhost:8080/"
        },
        "id": "2imGGnLzvbgu",
        "outputId": "d79d4406-b778-4ebc-db3e-d6c3b2e08043"
      },
      "execution_count": 19,
      "outputs": [
        {
          "output_type": "execute_result",
          "data": {
            "text/plain": [
              "5"
            ]
          },
          "metadata": {},
          "execution_count": 19
        }
      ]
    },
    {
      "cell_type": "code",
      "source": [
        "#14. Write a code to find the index of the element \"cat\" in the tuple ('dog', 'cat', 'rabbit').\n",
        "t=('dog', 'cat', 'rabbit')\n",
        "t.index(\"cat\")"
      ],
      "metadata": {
        "colab": {
          "base_uri": "https://localhost:8080/"
        },
        "id": "UxDd_N_5vf5b",
        "outputId": "0886f336-2e80-4c86-94fe-b985596d3a34"
      },
      "execution_count": 20,
      "outputs": [
        {
          "output_type": "execute_result",
          "data": {
            "text/plain": [
              "1"
            ]
          },
          "metadata": {},
          "execution_count": 20
        }
      ]
    },
    {
      "cell_type": "code",
      "source": [
        "#15.Write a code to create a tuple containing three different fruits and check if \"kiwi\" is in it.\n",
        "t=(\"apple\",\"orange\",\"chiku\")\n",
        "print(\"kiwi\" in t)"
      ],
      "metadata": {
        "colab": {
          "base_uri": "https://localhost:8080/"
        },
        "id": "FvzmLPU0vjyM",
        "outputId": "2c16debc-db35-43c1-db98-4db44e1cbf21"
      },
      "execution_count": 21,
      "outputs": [
        {
          "output_type": "stream",
          "name": "stdout",
          "text": [
            "False\n"
          ]
        }
      ]
    },
    {
      "cell_type": "code",
      "source": [
        "#16.Write a code to create a set with the elements 'a', 'b', 'c' and print it.\n",
        "st={\"a\",\"b\",\"c\"}\n",
        "print(st)"
      ],
      "metadata": {
        "colab": {
          "base_uri": "https://localhost:8080/"
        },
        "id": "O8rRgFh3vp8u",
        "outputId": "95d6d443-5f6e-41e3-ae37-c13c82fb9214"
      },
      "execution_count": 22,
      "outputs": [
        {
          "output_type": "stream",
          "name": "stdout",
          "text": [
            "{'c', 'a', 'b'}\n"
          ]
        }
      ]
    },
    {
      "cell_type": "code",
      "source": [
        "#17. Write a code to clear all elements from the set {1, 2, 3, 4, 5}\n",
        "st={1,2,3,4,5}\n",
        "st.clear()\n",
        "print(st)"
      ],
      "metadata": {
        "colab": {
          "base_uri": "https://localhost:8080/"
        },
        "id": "JFkYMkkcvs2W",
        "outputId": "b7d79264-dda0-475e-bddb-20561e4ad03a"
      },
      "execution_count": 23,
      "outputs": [
        {
          "output_type": "stream",
          "name": "stdout",
          "text": [
            "set()\n"
          ]
        }
      ]
    },
    {
      "cell_type": "code",
      "source": [
        "#18. Write a code to remove the element 4 from the set {1, 2, 3, 4}.\n",
        "st={1,2,3,4}\n",
        "st.remove(4)\n",
        "print(\"remove from remove function =\",st)\n",
        "\n",
        "st={1,2,3,4}\n",
        "st.discard(4)\n",
        "print(\"remove from discard function =\",st)"
      ],
      "metadata": {
        "colab": {
          "base_uri": "https://localhost:8080/"
        },
        "id": "WTk8euIovwzZ",
        "outputId": "fa416041-47a9-475c-b287-94d712b3f8f1"
      },
      "execution_count": 24,
      "outputs": [
        {
          "output_type": "stream",
          "name": "stdout",
          "text": [
            "remove from remove function = {1, 2, 3}\n",
            "remove from discard function = {1, 2, 3}\n"
          ]
        }
      ]
    },
    {
      "cell_type": "code",
      "source": [
        "#19.Write a code to find the union of two sets {1, 2, 3} and {3, 4, 5}\n",
        "s1={1,2,3}\n",
        "s2={3,4,5}\n",
        "s1|s2"
      ],
      "metadata": {
        "colab": {
          "base_uri": "https://localhost:8080/"
        },
        "id": "WWpTDSFEv0GA",
        "outputId": "992762d9-9241-49b7-bc03-55e75cb35932"
      },
      "execution_count": 25,
      "outputs": [
        {
          "output_type": "execute_result",
          "data": {
            "text/plain": [
              "{1, 2, 3, 4, 5}"
            ]
          },
          "metadata": {},
          "execution_count": 25
        }
      ]
    },
    {
      "cell_type": "code",
      "source": [
        "#20.Write a code to find the intersection of two sets {1, 2, 3} and {2, 3, 4}.\n",
        "s1={1,2,3}\n",
        "s2={2,3,4}\n",
        "s1&s2"
      ],
      "metadata": {
        "colab": {
          "base_uri": "https://localhost:8080/"
        },
        "id": "3vxvt1sQv34G",
        "outputId": "81b97f4f-c257-4da8-d123-8782d9ac8206"
      },
      "execution_count": 26,
      "outputs": [
        {
          "output_type": "execute_result",
          "data": {
            "text/plain": [
              "{2, 3}"
            ]
          },
          "metadata": {},
          "execution_count": 26
        }
      ]
    },
    {
      "cell_type": "code",
      "source": [
        "#21.Write a code to create a dictionary with the keys \"name\", \"age\", and \"city\", and print it.\n",
        "d={\"name\":\"pallavi\",\"age\":32,\"city\":\"haryana\"}\n",
        "print(d)"
      ],
      "metadata": {
        "colab": {
          "base_uri": "https://localhost:8080/"
        },
        "id": "rg8qrZSUv_lv",
        "outputId": "3d980452-2fd2-49b3-e41b-41707eeba800"
      },
      "execution_count": 27,
      "outputs": [
        {
          "output_type": "stream",
          "name": "stdout",
          "text": [
            "{'name': 'pallavi', 'age': 32, 'city': 'haryana'}\n"
          ]
        }
      ]
    },
    {
      "cell_type": "code",
      "source": [
        "#22.Write a code to add a new key-value pair \"country\": \"USA\" to the dictionary {'name': 'John', 'age': 25}.\n",
        "d={'name': 'John', 'age': 25}\n",
        "d[\"country\"]= \"USA\"\n",
        "print(d)"
      ],
      "metadata": {
        "colab": {
          "base_uri": "https://localhost:8080/"
        },
        "id": "eD8kPeUHwLaB",
        "outputId": "a188f751-9a32-45b1-a8d8-24000c097f9f"
      },
      "execution_count": 28,
      "outputs": [
        {
          "output_type": "stream",
          "name": "stdout",
          "text": [
            "{'name': 'John', 'age': 25, 'country': 'USA'}\n"
          ]
        }
      ]
    },
    {
      "cell_type": "code",
      "source": [
        "#23. Write a code to access the value associated with the key \"name\" in the dictionary {'name': 'Alice', 'age': 30}.\n",
        "d={'name': 'Alice', 'age': 30}\n",
        "d[\"name\"]"
      ],
      "metadata": {
        "colab": {
          "base_uri": "https://localhost:8080/",
          "height": 35
        },
        "id": "TPz4-KLCwQw4",
        "outputId": "61e2ebd9-270b-45c4-af88-b6288c4b003f"
      },
      "execution_count": 29,
      "outputs": [
        {
          "output_type": "execute_result",
          "data": {
            "text/plain": [
              "'Alice'"
            ],
            "application/vnd.google.colaboratory.intrinsic+json": {
              "type": "string"
            }
          },
          "metadata": {},
          "execution_count": 29
        }
      ]
    },
    {
      "cell_type": "code",
      "source": [
        "#24.Write a code to remove the key \"age\" from the dictionary {'name': 'Bob', 'age': 22, 'city': 'New York'}\n",
        "d= {'name': 'Bob', 'age': 22, 'city': 'New York'}\n",
        "d.pop(\"age\")\n",
        "print(d)"
      ],
      "metadata": {
        "colab": {
          "base_uri": "https://localhost:8080/"
        },
        "id": "BInwVMsCwUWw",
        "outputId": "407a7e31-497e-46ea-8c87-93a86f434a1f"
      },
      "execution_count": 30,
      "outputs": [
        {
          "output_type": "stream",
          "name": "stdout",
          "text": [
            "{'name': 'Bob', 'city': 'New York'}\n"
          ]
        }
      ]
    },
    {
      "cell_type": "code",
      "source": [
        "#25.Write a code to check if the key \"city\" exists in the dictionary {'name': 'Alice', 'city': 'Paris'}.\n",
        "d={'name': 'Alice', 'city': 'Paris'}\n",
        "\"city\" in d"
      ],
      "metadata": {
        "colab": {
          "base_uri": "https://localhost:8080/"
        },
        "id": "prPrzu8TwgpC",
        "outputId": "ac15de69-2d1d-4d03-af44-c91028d084b3"
      },
      "execution_count": 31,
      "outputs": [
        {
          "output_type": "execute_result",
          "data": {
            "text/plain": [
              "True"
            ]
          },
          "metadata": {},
          "execution_count": 31
        }
      ]
    },
    {
      "cell_type": "code",
      "source": [
        "#26.Write a code to create a list, a tuple, and a dictionary, and print them all.\n",
        "l=[1,2,3.5,\"pallavi\",4+8j]\n",
        "t=(1,2,3,\"pallavi\")\n",
        "d={'name': 'Alice', 'city': 'Paris'}\n",
        "print(\"list =\",l)\n",
        "print(\"tuples =\",t)\n",
        "print(\"dictionary =\",d)"
      ],
      "metadata": {
        "colab": {
          "base_uri": "https://localhost:8080/"
        },
        "id": "bQe2nOjawlN6",
        "outputId": "55494e70-9622-4d68-a19a-7cbf1b7fd475"
      },
      "execution_count": 33,
      "outputs": [
        {
          "output_type": "stream",
          "name": "stdout",
          "text": [
            "list = [1, 2, 3.5, 'pallavi', (4+8j)]\n",
            "tuples = (1, 2, 3, 'pallavi')\n",
            "dictionary = {'name': 'Alice', 'city': 'Paris'}\n"
          ]
        }
      ]
    },
    {
      "cell_type": "code",
      "source": [
        "#27. Write a code to create a list of 5 random numbers between 1 and 100, sort it in ascending order, and print the replaced result\n",
        "l=[10,65,78,28,55]\n",
        "l.sort()\n",
        "print(l)"
      ],
      "metadata": {
        "colab": {
          "base_uri": "https://localhost:8080/"
        },
        "id": "RXfUl_6NwpSB",
        "outputId": "1c5e1d6f-a5c7-429b-8ce7-8fdfcbc845a8"
      },
      "execution_count": 34,
      "outputs": [
        {
          "output_type": "stream",
          "name": "stdout",
          "text": [
            "[10, 28, 55, 65, 78]\n"
          ]
        }
      ]
    },
    {
      "cell_type": "code",
      "source": [
        "#28.Write a code to create a list with strings and print the element at the third index.\n",
        "l=[\"pallavi\",\"ajit\",\"varsha\",\"muskan\"]\n",
        "l[3]"
      ],
      "metadata": {
        "colab": {
          "base_uri": "https://localhost:8080/",
          "height": 35
        },
        "id": "dC_svg9Cw15R",
        "outputId": "79e795c9-5ed9-41cb-e11a-c0af1973d597"
      },
      "execution_count": 35,
      "outputs": [
        {
          "output_type": "execute_result",
          "data": {
            "text/plain": [
              "'muskan'"
            ],
            "application/vnd.google.colaboratory.intrinsic+json": {
              "type": "string"
            }
          },
          "metadata": {},
          "execution_count": 35
        }
      ]
    },
    {
      "cell_type": "code",
      "source": [
        "#29.Write a code to combine two dictionaries into one and print the result.\n",
        "d1={\"name\":\"pallavi\",\"city\":\"haryana\"}\n",
        "d2={\"course\":\"data analytics\"}\n",
        "d3={**d1,**d2}\n",
        "print(d3)"
      ],
      "metadata": {
        "colab": {
          "base_uri": "https://localhost:8080/"
        },
        "id": "PkyqcB-iw6cA",
        "outputId": "a92312e2-1c7d-4ff3-d7fd-872f2b8a245c"
      },
      "execution_count": 37,
      "outputs": [
        {
          "output_type": "stream",
          "name": "stdout",
          "text": [
            "{'name': 'pallavi', 'city': 'haryana', 'course': 'data analytics'}\n"
          ]
        }
      ]
    },
    {
      "cell_type": "code",
      "source": [
        "#30.Write a code to convert a list of strings into a set.\n",
        "list1=[\"pallavi\",\"ajit\",\"pintu\"]\n",
        "set1=set(list1)\n",
        "print(set1)"
      ],
      "metadata": {
        "colab": {
          "base_uri": "https://localhost:8080/"
        },
        "id": "D4NRgn6dw-Dp",
        "outputId": "63d520d5-c418-44f5-ff7b-0a0059d66db8"
      },
      "execution_count": 39,
      "outputs": [
        {
          "output_type": "stream",
          "name": "stdout",
          "text": [
            "{'pintu', 'ajit', 'pallavi'}\n"
          ]
        }
      ]
    },
    {
      "cell_type": "code",
      "source": [],
      "metadata": {
        "id": "hxnzGtFux30S"
      },
      "execution_count": null,
      "outputs": []
    }
  ]
}